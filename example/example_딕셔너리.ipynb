{
 "cells": [
  {
   "cell_type": "markdown",
   "metadata": {},
   "source": [
    "#### Q. 이름, 나이, 연락처를 입력받아 딕셔너리를 만들어 출력"
   ]
  },
  {
   "cell_type": "code",
   "execution_count": 6,
   "metadata": {},
   "outputs": [
    {
     "name": "stdout",
     "output_type": "stream",
     "text": [
      "이름을 입력해주세요.졍\n",
      "나이를 입력해주세요.1\n",
      "연락처를 입력해주세요.111-1111-1111\n",
      "{'이름': '졍', '나이': 1, '연락처': '111-1111-1111'}\n"
     ]
    }
   ],
   "source": [
    "name = input('이름을 입력해주세요.')\n",
    "age = int(input('나이를 입력해주세요.'))\n",
    "phone_number = input('연락처를 입력해주세요.')\n",
    "\n",
    "dic = {'이름': name, '나이':age, '연락처':phone_number}\n",
    "print(dic)"
   ]
  },
  {
   "cell_type": "markdown",
   "metadata": {},
   "source": [
    "#### Q. 두사람의 이름, 나이, 연락처를 입력 받아 각각 딕셔너리를 만들어 리스트에 넣기"
   ]
  },
  {
   "cell_type": "code",
   "execution_count": 16,
   "metadata": {},
   "outputs": [
    {
     "name": "stdout",
     "output_type": "stream",
     "text": [
      "이름을 입력해주세요.졍\n",
      "나이를 입력해주세요.1\n",
      "연락처를 입력해주세요.111-1111-1111\n",
      "이름을 입력해주세요.졍\n",
      "나이를 입력해주세요.2\n",
      "연락처를 입력해주세요.222-2222-2222\n"
     ]
    },
    {
     "data": {
      "text/plain": [
       "[{'이름': '졍', '나이': 1, '연락처': '111-1111-1111'},\n",
       " {'이름': '졍', '나이': 2, '연락처': '222-2222-2222'}]"
      ]
     },
     "execution_count": 16,
     "metadata": {},
     "output_type": "execute_result"
    }
   ],
   "source": [
    "ls = []\n",
    "\n",
    "name = input('이름을 입력해주세요.')\n",
    "age = int(input('나이를 입력해주세요.'))\n",
    "phone_number = input('연락처를 입력해주세요.')\n",
    "\n",
    "ls.append({'이름':name, '나이':age, '연락처':phone_number})\n",
    "\n",
    "name = input('이름을 입력해주세요.')\n",
    "age = int(input('나이를 입력해주세요.'))\n",
    "phone_number = input('연락처를 입력해주세요.')\n",
    "\n",
    "ls.append({'이름':name, '나이':age, '연락처':phone_number})\n",
    "\n",
    "ls"
   ]
  }
 ],
 "metadata": {
  "kernelspec": {
   "display_name": "Python 3",
   "language": "python",
   "name": "python3"
  },
  "language_info": {
   "codemirror_mode": {
    "name": "ipython",
    "version": 3
   },
   "file_extension": ".py",
   "mimetype": "text/x-python",
   "name": "python",
   "nbconvert_exporter": "python",
   "pygments_lexer": "ipython3",
   "version": "3.7.6"
  }
 },
 "nbformat": 4,
 "nbformat_minor": 4
}
